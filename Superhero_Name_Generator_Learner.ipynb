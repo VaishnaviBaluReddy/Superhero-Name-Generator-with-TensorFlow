{
  "cells": [
    {
      "cell_type": "markdown",
      "metadata": {
        "id": "view-in-github",
        "colab_type": "text"
      },
      "source": [
        "<a href=\"https://colab.research.google.com/github/VaishnaviBaluReddy/Superhero-Name-Generator-with-TensorFlow/blob/main/Superhero_Name_Generator_Learner.ipynb\" target=\"_parent\"><img src=\"https://colab.research.google.com/assets/colab-badge.svg\" alt=\"Open In Colab\"/></a>"
      ]
    },
    {
      "cell_type": "markdown",
      "metadata": {
        "id": "21XXWP7Fpt2L"
      },
      "source": [
        "# Superhero (and Supervillain) Name Generator\n",
        "\n",
        "---\n",
        "\n",
        "[Superhero Names Dataset](https://github.com/am1tyadav/superhero)"
      ]
    },
    {
      "cell_type": "markdown",
      "metadata": {
        "id": "H6P0NU5Cpt2R"
      },
      "source": [
        "## Task 2\n",
        "\n",
        "1. Import the data\n",
        "2. Create a tokenizer\n",
        "3. Char to index and Index to char dictionaries"
      ]
    },
    {
      "cell_type": "code",
      "execution_count": 1,
      "metadata": {
        "colab": {
          "base_uri": "https://localhost:8080/"
        },
        "id": "srULhalZpt2M",
        "outputId": "e5c27744-90fc-4f18-8bf7-a4e3f93b97bc"
      },
      "outputs": [
        {
          "output_type": "stream",
          "name": "stdout",
          "text": [
            "Cloning into 'superhero'...\n",
            "remote: Enumerating objects: 8, done.\u001b[K\n",
            "remote: Counting objects: 100% (8/8), done.\u001b[K\n",
            "remote: Compressing objects: 100% (7/7), done.\u001b[K\n",
            "remote: Total 8 (delta 0), reused 4 (delta 0), pack-reused 0\u001b[K\n",
            "Unpacking objects: 100% (8/8), 47.06 KiB | 1.68 MiB/s, done.\n"
          ]
        }
      ],
      "source": [
        "!git clone https://github.com/am1tyadav/superhero"
      ]
    },
    {
      "cell_type": "code",
      "execution_count": 2,
      "metadata": {
        "colab": {
          "base_uri": "https://localhost:8080/",
          "height": 36
        },
        "id": "uq4CLmsLpt2P",
        "outputId": "0ad0d3e1-af28-46b0-b218-edc8a8481452"
      },
      "outputs": [
        {
          "output_type": "execute_result",
          "data": {
            "text/plain": [
              "'jumpa\\t\\ndoctor fate\\t\\nstarlight\\t\\nisildur\\t\\nlasher\\t\\nvarvara\\t\\nthe target\\t\\naxel\\t\\nbattra\\t\\nchangeling\\t\\npyrrh'"
            ],
            "application/vnd.google.colaboratory.intrinsic+json": {
              "type": "string"
            }
          },
          "metadata": {},
          "execution_count": 2
        }
      ],
      "source": [
        "with open('superhero/superheroes.txt', 'r') as f:\n",
        "  data = f.read()\n",
        "\n",
        "data[:100]"
      ]
    },
    {
      "cell_type": "code",
      "execution_count": 3,
      "metadata": {
        "colab": {
          "base_uri": "https://localhost:8080/"
        },
        "id": "JqhtLuAHpt2R",
        "outputId": "ae764b76-c979-4b48-a997-cd7d9328e42a"
      },
      "outputs": [
        {
          "output_type": "stream",
          "name": "stdout",
          "text": [
            "2.12.0\n"
          ]
        }
      ],
      "source": [
        "import tensorflow as tf \n",
        "print(tf.__version__)"
      ]
    },
    {
      "cell_type": "code",
      "execution_count": 4,
      "metadata": {
        "id": "95Lo1Yqzpt2T"
      },
      "outputs": [],
      "source": [
        "#convert our characters to numbers to give a numerical representation to our data\n",
        "tokenizer = tf.keras.preprocessing.text.Tokenizer(\n",
        "    filters='!\"#$%&()*+,-./:;<=>?@[\\\\]^_`{|}~',\n",
        "    split='\\n',\n",
        ")"
      ]
    },
    {
      "cell_type": "code",
      "execution_count": 5,
      "metadata": {
        "id": "qYfC4sj2pt2V"
      },
      "outputs": [],
      "source": [
        "tokenizer.fit_on_texts(data)"
      ]
    },
    {
      "cell_type": "code",
      "execution_count": 6,
      "metadata": {
        "colab": {
          "base_uri": "https://localhost:8080/"
        },
        "id": "EO4-dPM6pt2X",
        "outputId": "7ff551ca-706e-4c51-e329-de85fcaaae56"
      },
      "outputs": [
        {
          "output_type": "stream",
          "name": "stdout",
          "text": [
            "{1: '\\t', 2: 'a', 3: 'e', 4: 'r', 5: 'o', 6: 'n', 7: 'i', 8: ' ', 9: 't', 10: 's', 11: 'l', 12: 'm', 13: 'h', 14: 'd', 15: 'c', 16: 'u', 17: 'g', 18: 'k', 19: 'b', 20: 'p', 21: 'y', 22: 'w', 23: 'f', 24: 'v', 25: 'j', 26: 'z', 27: 'x', 28: 'q'}\n"
          ]
        }
      ],
      "source": [
        "char_to_index = tokenizer.word_index \n",
        "index_to_char = dict((v, k) for k, v in char_to_index.items())  #incase we have to do the oppsite operation\n",
        "\n",
        "print(index_to_char)"
      ]
    },
    {
      "cell_type": "markdown",
      "metadata": {
        "id": "SMwtIw_Bpt2Z"
      },
      "source": [
        "**bold text**## STEP 3\n",
        "\n",
        "1. Converting between names and sequences"
      ]
    },
    {
      "cell_type": "code",
      "execution_count": 7,
      "metadata": {
        "colab": {
          "base_uri": "https://localhost:8080/"
        },
        "id": "N7iQLIXzpt2a",
        "outputId": "f4c92ddf-2ba8-49c3-f6b1-e45e31fdf9df"
      },
      "outputs": [
        {
          "output_type": "execute_result",
          "data": {
            "text/plain": [
              "['jumpa\\t',\n",
              " 'doctor fate\\t',\n",
              " 'starlight\\t',\n",
              " 'isildur\\t',\n",
              " 'lasher\\t',\n",
              " 'varvara\\t',\n",
              " 'the target\\t',\n",
              " 'axel\\t',\n",
              " 'battra\\t',\n",
              " 'changeling\\t']"
            ]
          },
          "metadata": {},
          "execution_count": 7
        }
      ],
      "source": [
        "names = data.splitlines()\n",
        "names[:10]"
      ]
    },
    {
      "cell_type": "code",
      "execution_count": 8,
      "metadata": {
        "colab": {
          "base_uri": "https://localhost:8080/"
        },
        "id": "n_-TTfqipt2c",
        "outputId": "85da91a4-03ed-4f45-e3ef-d5c16a1ac81c"
      },
      "outputs": [
        {
          "output_type": "execute_result",
          "data": {
            "text/plain": [
              "[[25], [16], [12], [20], [2], [1]]"
            ]
          },
          "metadata": {},
          "execution_count": 8
        }
      ],
      "source": [
        "tokenizer.texts_to_sequences(names[0])  #the first example is converted into a sequnce of numbers with the help of a tokenizer"
      ]
    },
    {
      "cell_type": "code",
      "execution_count": 9,
      "metadata": {
        "id": "P6IsKH1Upt2e"
      },
      "outputs": [],
      "source": [
        "def name_to_seq(name):\n",
        "  return [tokenizer.texts_to_sequences(c)[0][0] for c in name] #creating a function to make it easier to use"
      ]
    },
    {
      "cell_type": "code",
      "execution_count": 10,
      "metadata": {
        "colab": {
          "base_uri": "https://localhost:8080/"
        },
        "id": "TuLUiMP3pt2g",
        "outputId": "403f2555-6540-4992-f073-9c6cd163f339"
      },
      "outputs": [
        {
          "output_type": "execute_result",
          "data": {
            "text/plain": [
              "[25, 16, 12, 20, 2, 1]"
            ]
          },
          "metadata": {},
          "execution_count": 10
        }
      ],
      "source": [
        "name_to_seq(names[0])"
      ]
    },
    {
      "cell_type": "code",
      "execution_count": 11,
      "metadata": {
        "id": "yFUYhimKpt2h"
      },
      "outputs": [],
      "source": [
        "def seq_to_name(seq):\n",
        "  return ''.join([index_to_char[i] for i in seq if i != 0]) #the opposite function in order to return the prediction of our model in terms of characters rather than numbers"
      ]
    },
    {
      "cell_type": "code",
      "execution_count": 12,
      "metadata": {
        "colab": {
          "base_uri": "https://localhost:8080/",
          "height": 36
        },
        "id": "ROhCqmhLpt2k",
        "outputId": "ae42ceb0-e941-488b-c3a3-51a21d2c8435"
      },
      "outputs": [
        {
          "output_type": "execute_result",
          "data": {
            "text/plain": [
              "'jumpa\\t'"
            ],
            "application/vnd.google.colaboratory.intrinsic+json": {
              "type": "string"
            }
          },
          "metadata": {},
          "execution_count": 12
        }
      ],
      "source": [
        "seq_to_name(name_to_seq(names[0]))"
      ]
    },
    {
      "cell_type": "markdown",
      "metadata": {
        "id": "uCbAzsNjpt2m"
      },
      "source": [
        "## Task 4\n",
        "\n",
        "1. Creating sequences\n",
        "2. Padding all sequences"
      ]
    },
    {
      "cell_type": "code",
      "execution_count": 13,
      "metadata": {
        "id": "zstNn-0dpt2m"
      },
      "outputs": [],
      "source": [
        "#all the examples for all the names that we have in our dataset\n",
        "sequences= []\n",
        "\n",
        "for name in names:\n",
        "  seq = name_to_seq(name)\n",
        "  if len(seq) >= 2:   #we do this in order to create our examples with atleast 2 characters in it \n",
        "    sequences += [seq[:i] for i in range(2, len(seq) + 1)] #for a length 2 to all the way to the end of the name that we have"
      ]
    },
    {
      "cell_type": "code",
      "execution_count": 14,
      "metadata": {
        "colab": {
          "base_uri": "https://localhost:8080/"
        },
        "id": "BjRTMysvpt2o",
        "outputId": "d59819f4-5c90-4aed-f058-3ac6e00f2c96"
      },
      "outputs": [
        {
          "output_type": "execute_result",
          "data": {
            "text/plain": [
              "[[25, 16],\n",
              " [25, 16, 12],\n",
              " [25, 16, 12, 20],\n",
              " [25, 16, 12, 20, 2],\n",
              " [25, 16, 12, 20, 2, 1],\n",
              " [14, 5],\n",
              " [14, 5, 15],\n",
              " [14, 5, 15, 9],\n",
              " [14, 5, 15, 9, 5],\n",
              " [14, 5, 15, 9, 5, 4]]"
            ]
          },
          "metadata": {},
          "execution_count": 14
        }
      ],
      "source": [
        "sequences[:10]"
      ]
    },
    {
      "cell_type": "code",
      "execution_count": 15,
      "metadata": {
        "colab": {
          "base_uri": "https://localhost:8080/"
        },
        "id": "SR68pu2tpt2q",
        "outputId": "6eade232-46ac-4407-8098-1341758470f3"
      },
      "outputs": [
        {
          "output_type": "stream",
          "name": "stdout",
          "text": [
            "33\n"
          ]
        }
      ],
      "source": [
        "max_len = max([len(x) for x in sequences])\n",
        "print(max_len) #this is to make sure that there's not a variable length but a fixed length before feeding our data into the model"
      ]
    },
    {
      "cell_type": "code",
      "execution_count": 16,
      "metadata": {
        "colab": {
          "base_uri": "https://localhost:8080/"
        },
        "id": "h_1BtWO7pt2r",
        "outputId": "cbc81e2b-dd13-4161-be0a-951a714d8c35"
      },
      "outputs": [
        {
          "output_type": "stream",
          "name": "stdout",
          "text": [
            "[ 0  0  0  0  0  0  0  0  0  0  0  0  0  0  0  0  0  0  0  0  0  0  0  0\n",
            "  0  0  0  0  0  0  0 25 16]\n"
          ]
        }
      ],
      "source": [
        "padded_sequences = tf.keras.preprocessing.sequence.pad_sequences(\n",
        "    sequences, padding='pre',\n",
        "    maxlen=max_len\n",
        ")\n",
        "#our padded sequences are all going to be of length 33 and the pre-padding will add 0s in such a way that they're before the entire sequence\n",
        "print(padded_sequences[0]) #pre padding will make it easier to create labels "
      ]
    },
    {
      "cell_type": "code",
      "execution_count": 17,
      "metadata": {
        "colab": {
          "base_uri": "https://localhost:8080/"
        },
        "id": "sPlrLRpSpt2t",
        "outputId": "0949e7ed-9b88-4e58-f65f-1505f827532a"
      },
      "outputs": [
        {
          "output_type": "execute_result",
          "data": {
            "text/plain": [
              "(88279, 33)"
            ]
          },
          "metadata": {},
          "execution_count": 17
        }
      ],
      "source": [
        "padded_sequences.shape"
      ]
    },
    {
      "cell_type": "markdown",
      "metadata": {
        "id": "zlhVcWPmC9_L"
      },
      "source": [
        "## Task 5: Creating Training and Validation Sets\n",
        "\n",
        "1. Creating training and validation sets"
      ]
    },
    {
      "cell_type": "code",
      "execution_count": 18,
      "metadata": {
        "colab": {
          "base_uri": "https://localhost:8080/"
        },
        "id": "BE4BIeSnpt2v",
        "outputId": "940500f8-af3a-46e1-e730-89c25ed2bde1"
      },
      "outputs": [
        {
          "output_type": "stream",
          "name": "stdout",
          "text": [
            "(88279, 32) (88279,)\n"
          ]
        }
      ],
      "source": [
        "x, y = padded_sequences[:, :-1], padded_sequences[:, -1]\n",
        "print(x.shape, y.shape)"
      ]
    },
    {
      "cell_type": "code",
      "execution_count": 19,
      "metadata": {
        "id": "pMhrO7C9C9_L",
        "outputId": "8e3f1d5c-89c7-454f-99bd-b2e7e83ba984",
        "colab": {
          "base_uri": "https://localhost:8080/"
        }
      },
      "outputs": [
        {
          "output_type": "stream",
          "name": "stdout",
          "text": [
            "(66209, 32) (66209,)\n",
            "(22070, 32) (22070,)\n"
          ]
        }
      ],
      "source": [
        "from sklearn.model_selection import train_test_split\n",
        "\n",
        "x_train, x_test, y_train, y_test = train_test_split(x, y) #the default split is 30% for the test set\n",
        "\n",
        "print(x_train.shape, y_train.shape)\n",
        "print(x_test.shape, y_test.shape)"
      ]
    },
    {
      "cell_type": "code",
      "execution_count": 20,
      "metadata": {
        "colab": {
          "base_uri": "https://localhost:8080/"
        },
        "id": "cgqRZtqnpt2x",
        "outputId": "db65513d-3de5-4ada-bdd4-1dfa760f790c"
      },
      "outputs": [
        {
          "output_type": "stream",
          "name": "stdout",
          "text": [
            "29\n"
          ]
        }
      ],
      "source": [
        "num_chars = len(char_to_index.keys()) + 1 #plus 1 because we added a 0 to our vocab and need to count that as well\n",
        "print(num_chars)"
      ]
    },
    {
      "cell_type": "markdown",
      "metadata": {
        "id": "-OVbkY6MC9_M"
      },
      "source": [
        "## Task 6: Creating the Model"
      ]
    },
    {
      "cell_type": "code",
      "execution_count": 21,
      "metadata": {
        "id": "F832ITICC9_M",
        "outputId": "788d6ba5-55c9-4e8f-a8a5-912034e4881e",
        "colab": {
          "base_uri": "https://localhost:8080/"
        }
      },
      "outputs": [
        {
          "output_type": "stream",
          "name": "stdout",
          "text": [
            "Model: \"sequential\"\n",
            "_________________________________________________________________\n",
            " Layer (type)                Output Shape              Param #   \n",
            "=================================================================\n",
            " embedding (Embedding)       (None, 32, 8)             232       \n",
            "                                                                 \n",
            " conv1d (Conv1D)             (None, 32, 64)            2624      \n",
            "                                                                 \n",
            " max_pooling1d (MaxPooling1D  (None, 16, 64)           0         \n",
            " )                                                               \n",
            "                                                                 \n",
            " lstm (LSTM)                 (None, 32)                12416     \n",
            "                                                                 \n",
            " dense (Dense)               (None, 29)                957       \n",
            "                                                                 \n",
            "=================================================================\n",
            "Total params: 16,229\n",
            "Trainable params: 16,229\n",
            "Non-trainable params: 0\n",
            "_________________________________________________________________\n"
          ]
        }
      ],
      "source": [
        "from tensorflow.keras.models import Sequential\n",
        "from tensorflow.keras.layers import Embedding, Conv1D, MaxPool1D, LSTM\n",
        "from tensorflow.keras.layers import Bidirectional, Dense\n",
        "\n",
        "model = Sequential([\n",
        "                    Embedding(num_chars, 8, input_length=max_len-1),\n",
        "                    Conv1D(64, 5, strides=1, activation='tanh', padding='causal'),\n",
        "                    MaxPool1D(2),\n",
        "                    LSTM(32),\n",
        "                    Dense(num_chars, activation='softmax')\n",
        "])\n",
        "\n",
        "model.compile(\n",
        "    loss='sparse_categorical_crossentropy',\n",
        "    optimizer='adam',\n",
        "    metrics=['accuracy']\n",
        ")\n",
        "\n",
        "model.summary()"
      ]
    },
    {
      "cell_type": "markdown",
      "metadata": {
        "id": "ikcSVgNgC9_M"
      },
      "source": [
        "## Task 7: Training the Model"
      ]
    },
    {
      "cell_type": "code",
      "execution_count": 22,
      "metadata": {
        "colab": {
          "base_uri": "https://localhost:8080/"
        },
        "id": "j0Ssl4qupt22",
        "outputId": "e1b8895a-a35b-4ab1-9530-c2bcc91cecfb"
      },
      "outputs": [
        {
          "output_type": "stream",
          "name": "stdout",
          "text": [
            "2070/2070 - 25s - loss: 2.7578 - accuracy: 0.1850 - val_loss: 2.5897 - val_accuracy: 0.2193 - 25s/epoch - 12ms/step\n",
            "Epoch 2/50\n",
            "2070/2070 - 13s - loss: 2.5525 - accuracy: 0.2322 - val_loss: 2.5020 - val_accuracy: 0.2396 - 13s/epoch - 6ms/step\n",
            "Epoch 3/50\n",
            "2070/2070 - 12s - loss: 2.4807 - accuracy: 0.2523 - val_loss: 2.4482 - val_accuracy: 0.2637 - 12s/epoch - 6ms/step\n",
            "Epoch 4/50\n",
            "2070/2070 - 13s - loss: 2.4350 - accuracy: 0.2641 - val_loss: 2.4142 - val_accuracy: 0.2681 - 13s/epoch - 6ms/step\n",
            "Epoch 5/50\n",
            "2070/2070 - 12s - loss: 2.4003 - accuracy: 0.2742 - val_loss: 2.3849 - val_accuracy: 0.2768 - 12s/epoch - 6ms/step\n",
            "Epoch 6/50\n",
            "2070/2070 - 13s - loss: 2.3707 - accuracy: 0.2830 - val_loss: 2.3562 - val_accuracy: 0.2863 - 13s/epoch - 6ms/step\n",
            "Epoch 7/50\n",
            "2070/2070 - 13s - loss: 2.3424 - accuracy: 0.2917 - val_loss: 2.3407 - val_accuracy: 0.2882 - 13s/epoch - 6ms/step\n",
            "Epoch 8/50\n",
            "2070/2070 - 12s - loss: 2.3180 - accuracy: 0.3005 - val_loss: 2.3190 - val_accuracy: 0.2941 - 12s/epoch - 6ms/step\n",
            "Epoch 9/50\n",
            "2070/2070 - 13s - loss: 2.2951 - accuracy: 0.3061 - val_loss: 2.3055 - val_accuracy: 0.3004 - 13s/epoch - 6ms/step\n",
            "Epoch 10/50\n",
            "2070/2070 - 13s - loss: 2.2741 - accuracy: 0.3130 - val_loss: 2.2913 - val_accuracy: 0.3068 - 13s/epoch - 6ms/step\n",
            "Epoch 11/50\n",
            "2070/2070 - 13s - loss: 2.2546 - accuracy: 0.3202 - val_loss: 2.2789 - val_accuracy: 0.3082 - 13s/epoch - 6ms/step\n",
            "Epoch 12/50\n",
            "2070/2070 - 12s - loss: 2.2359 - accuracy: 0.3264 - val_loss: 2.2702 - val_accuracy: 0.3140 - 12s/epoch - 6ms/step\n",
            "Epoch 13/50\n",
            "2070/2070 - 13s - loss: 2.2194 - accuracy: 0.3295 - val_loss: 2.2617 - val_accuracy: 0.3220 - 13s/epoch - 6ms/step\n",
            "Epoch 14/50\n",
            "2070/2070 - 12s - loss: 2.2041 - accuracy: 0.3341 - val_loss: 2.2532 - val_accuracy: 0.3218 - 12s/epoch - 6ms/step\n",
            "Epoch 15/50\n",
            "2070/2070 - 12s - loss: 2.1887 - accuracy: 0.3394 - val_loss: 2.2487 - val_accuracy: 0.3238 - 12s/epoch - 6ms/step\n",
            "Epoch 16/50\n",
            "2070/2070 - 12s - loss: 2.1761 - accuracy: 0.3449 - val_loss: 2.2443 - val_accuracy: 0.3282 - 12s/epoch - 6ms/step\n",
            "Epoch 17/50\n",
            "2070/2070 - 13s - loss: 2.1625 - accuracy: 0.3477 - val_loss: 2.2343 - val_accuracy: 0.3287 - 13s/epoch - 6ms/step\n",
            "Epoch 18/50\n",
            "2070/2070 - 13s - loss: 2.1507 - accuracy: 0.3506 - val_loss: 2.2353 - val_accuracy: 0.3294 - 13s/epoch - 6ms/step\n",
            "Epoch 19/50\n",
            "2070/2070 - 12s - loss: 2.1392 - accuracy: 0.3560 - val_loss: 2.2285 - val_accuracy: 0.3355 - 12s/epoch - 6ms/step\n",
            "Epoch 20/50\n",
            "2070/2070 - 12s - loss: 2.1279 - accuracy: 0.3583 - val_loss: 2.2274 - val_accuracy: 0.3329 - 12s/epoch - 6ms/step\n",
            "Epoch 21/50\n",
            "2070/2070 - 12s - loss: 2.1188 - accuracy: 0.3612 - val_loss: 2.2187 - val_accuracy: 0.3413 - 12s/epoch - 6ms/step\n",
            "Epoch 22/50\n",
            "2070/2070 - 12s - loss: 2.1088 - accuracy: 0.3643 - val_loss: 2.2160 - val_accuracy: 0.3409 - 12s/epoch - 6ms/step\n",
            "Epoch 23/50\n",
            "2070/2070 - 13s - loss: 2.1003 - accuracy: 0.3678 - val_loss: 2.2158 - val_accuracy: 0.3390 - 13s/epoch - 6ms/step\n",
            "Epoch 24/50\n",
            "2070/2070 - 12s - loss: 2.0921 - accuracy: 0.3696 - val_loss: 2.2125 - val_accuracy: 0.3426 - 12s/epoch - 6ms/step\n",
            "Epoch 25/50\n",
            "2070/2070 - 12s - loss: 2.0831 - accuracy: 0.3723 - val_loss: 2.2157 - val_accuracy: 0.3432 - 12s/epoch - 6ms/step\n",
            "Epoch 26/50\n",
            "2070/2070 - 12s - loss: 2.0760 - accuracy: 0.3751 - val_loss: 2.2108 - val_accuracy: 0.3435 - 12s/epoch - 6ms/step\n",
            "Epoch 27/50\n",
            "2070/2070 - 12s - loss: 2.0684 - accuracy: 0.3768 - val_loss: 2.2083 - val_accuracy: 0.3462 - 12s/epoch - 6ms/step\n",
            "Epoch 28/50\n",
            "2070/2070 - 12s - loss: 2.0630 - accuracy: 0.3788 - val_loss: 2.2026 - val_accuracy: 0.3489 - 12s/epoch - 6ms/step\n",
            "Epoch 29/50\n",
            "2070/2070 - 12s - loss: 2.0556 - accuracy: 0.3810 - val_loss: 2.2018 - val_accuracy: 0.3492 - 12s/epoch - 6ms/step\n",
            "Epoch 30/50\n",
            "2070/2070 - 12s - loss: 2.0497 - accuracy: 0.3854 - val_loss: 2.2034 - val_accuracy: 0.3501 - 12s/epoch - 6ms/step\n",
            "Epoch 31/50\n",
            "2070/2070 - 12s - loss: 2.0434 - accuracy: 0.3859 - val_loss: 2.2030 - val_accuracy: 0.3476 - 12s/epoch - 6ms/step\n",
            "Epoch 32/50\n",
            "2070/2070 - 12s - loss: 2.0370 - accuracy: 0.3874 - val_loss: 2.2051 - val_accuracy: 0.3478 - 12s/epoch - 6ms/step\n",
            "Epoch 33/50\n",
            "2070/2070 - 12s - loss: 2.0317 - accuracy: 0.3901 - val_loss: 2.2023 - val_accuracy: 0.3508 - 12s/epoch - 6ms/step\n",
            "Epoch 34/50\n",
            "2070/2070 - 12s - loss: 2.0261 - accuracy: 0.3914 - val_loss: 2.2060 - val_accuracy: 0.3510 - 12s/epoch - 6ms/step\n",
            "Epoch 35/50\n",
            "2070/2070 - 13s - loss: 2.0203 - accuracy: 0.3941 - val_loss: 2.2058 - val_accuracy: 0.3467 - 13s/epoch - 6ms/step\n",
            "Epoch 36/50\n",
            "2070/2070 - 12s - loss: 2.0158 - accuracy: 0.3951 - val_loss: 2.2018 - val_accuracy: 0.3512 - 12s/epoch - 6ms/step\n",
            "Epoch 37/50\n",
            "2070/2070 - 12s - loss: 2.0102 - accuracy: 0.3954 - val_loss: 2.2044 - val_accuracy: 0.3496 - 12s/epoch - 6ms/step\n",
            "Epoch 38/50\n",
            "2070/2070 - 12s - loss: 2.0051 - accuracy: 0.4001 - val_loss: 2.2022 - val_accuracy: 0.3513 - 12s/epoch - 6ms/step\n",
            "Epoch 39/50\n",
            "2070/2070 - 12s - loss: 2.0006 - accuracy: 0.3990 - val_loss: 2.2061 - val_accuracy: 0.3526 - 12s/epoch - 6ms/step\n",
            "Epoch 40/50\n",
            "2070/2070 - 12s - loss: 1.9967 - accuracy: 0.4026 - val_loss: 2.2029 - val_accuracy: 0.3560 - 12s/epoch - 6ms/step\n",
            "Epoch 41/50\n",
            "2070/2070 - 12s - loss: 1.9912 - accuracy: 0.4035 - val_loss: 2.2065 - val_accuracy: 0.3527 - 12s/epoch - 6ms/step\n",
            "Epoch 42/50\n",
            "2070/2070 - 12s - loss: 1.9875 - accuracy: 0.4048 - val_loss: 2.2109 - val_accuracy: 0.3547 - 12s/epoch - 6ms/step\n",
            "Epoch 43/50\n",
            "2070/2070 - 13s - loss: 1.9840 - accuracy: 0.4061 - val_loss: 2.2068 - val_accuracy: 0.3524 - 13s/epoch - 6ms/step\n"
          ]
        }
      ],
      "source": [
        "h = model.fit(\n",
        "    x_train, y_train,\n",
        "    validation_data=(x_test, y_test),\n",
        "    epochs=50, verbose=2,\n",
        "    callbacks=[\n",
        "               tf.keras.callbacks.EarlyStopping(monitor='val_accuracy', patience=3) \n",
        "    ] #this callback because we will not have to run 50 epochs but can keep an eye on the validation accuracy \n",
        ")"
      ]
    },
    {
      "cell_type": "code",
      "source": [
        "from matplotlib import pyplot as plt\n",
        "\n",
        "epochs_ran = len(h.history['loss'])\n",
        "\n",
        "plt.plot(range(0, epochs_ran), h.history['val_accuracy'], label='Validation')\n",
        "plt.plot(range(0, epochs_ran), h.history['accuracy'], label='Training')\n",
        "plt.legend()\n",
        "plt.show()"
      ],
      "metadata": {
        "id": "cgmenl_zEWyz",
        "outputId": "3129d1f3-0f11-41fa-8dd6-459d86a11b84",
        "colab": {
          "base_uri": "https://localhost:8080/",
          "height": 430
        }
      },
      "execution_count": 23,
      "outputs": [
        {
          "output_type": "display_data",
          "data": {
            "text/plain": [
              "<Figure size 640x480 with 1 Axes>"
            ],
            "image/png": "[encoded data removed]"
          },
          "metadata": {}
        }
      ]
    },
    {
      "cell_type": "code",
      "source": [],
      "metadata": {
        "id": "69SUUr5urAFT"
      },
      "execution_count": null,
      "outputs": []
    },
    {
      "cell_type": "markdown",
      "metadata": {
        "id": "NGrxa4xqC9_M"
      },
      "source": [
        "## Task 8: Generate Names!"
      ]
    },
    {
      "cell_type": "code",
      "execution_count": 24,
      "metadata": {
        "id": "9f50aTRcpt24"
      },
      "outputs": [],
      "source": [
        "def generate_names(seed):\n",
        "  for i in range(0, 40):\n",
        "    seq = name_to_seq(seed)\n",
        "    padded = tf.keras.preprocessing.sequence.pad_sequences([seq], padding='pre',\n",
        "                                                           maxlen=max_len-1,\n",
        "                                                           truncating='pre')\n",
        "    pred = model.predict(padded)[0]\n",
        "    pred_char = index_to_char[tf.argmax(pred).numpy()]\n",
        "    seed += pred_char\n",
        "\n",
        "    if pred_char == '\\t':\n",
        "      break\n",
        "  print(seed)"
      ]
    },
    {
      "cell_type": "code",
      "execution_count": 25,
      "metadata": {
        "colab": {
          "base_uri": "https://localhost:8080/"
        },
        "id": "faQ0FInlpt26",
        "outputId": "a4d82822-bc1e-434f-9644-725a0e5c250f"
      },
      "outputs": [
        {
          "output_type": "stream",
          "name": "stdout",
          "text": [
            "1/1 [==============================] - 1s 800ms/step\n",
            "1/1 [==============================] - 0s 39ms/step\n",
            "1/1 [==============================] - 0s 34ms/step\n",
            "1/1 [==============================] - 0s 53ms/step\n",
            "1/1 [==============================] - 0s 103ms/step\n",
            "1/1 [==============================] - 0s 96ms/step\n",
            "1/1 [==============================] - 0s 24ms/step\n",
            "1/1 [==============================] - 0s 20ms/step\n",
            "1/1 [==============================] - 0s 19ms/step\n",
            "1/1 [==============================] - 0s 20ms/step\n",
            "1/1 [==============================] - 0s 19ms/step\n",
            "1/1 [==============================] - 0s 26ms/step\n",
            "1/1 [==============================] - 0s 20ms/step\n",
            "1/1 [==============================] - 0s 19ms/step\n",
            "1/1 [==============================] - 0s 18ms/step\n",
            "1/1 [==============================] - 0s 18ms/step\n",
            "1/1 [==============================] - 0s 22ms/step\n",
            "1/1 [==============================] - 0s 18ms/step\n",
            "xeno the gonestine\t\n"
          ]
        }
      ],
      "source": [
        "generate_names('x')"
      ]
    },
    {
      "cell_type": "code",
      "source": [
        "generate_names('c')"
      ],
      "metadata": {
        "id": "mEKwSSvcsSY5",
        "outputId": "049730c5-876f-4bff-ef14-40c64ecb86be",
        "colab": {
          "base_uri": "https://localhost:8080/"
        }
      },
      "execution_count": 26,
      "outputs": [
        {
          "output_type": "stream",
          "name": "stdout",
          "text": [
            "1/1 [==============================] - 0s 37ms/step\n",
            "1/1 [==============================] - 0s 56ms/step\n",
            "1/1 [==============================] - 0s 29ms/step\n",
            "1/1 [==============================] - 0s 27ms/step\n",
            "1/1 [==============================] - 0s 27ms/step\n",
            "1/1 [==============================] - 0s 20ms/step\n",
            "1/1 [==============================] - 0s 32ms/step\n",
            "1/1 [==============================] - 0s 31ms/step\n",
            "1/1 [==============================] - 0s 30ms/step\n",
            "1/1 [==============================] - 0s 37ms/step\n",
            "1/1 [==============================] - 0s 26ms/step\n",
            "captain man\t\n"
          ]
        }
      ]
    },
    {
      "cell_type": "code",
      "source": [
        "generate_names('ut')"
      ],
      "metadata": {
        "id": "EkkjsrfJscbi",
        "outputId": "0304f84e-0aeb-46e7-8d6f-07e0f7c743c8",
        "colab": {
          "base_uri": "https://localhost:8080/"
        }
      },
      "execution_count": 27,
      "outputs": [
        {
          "output_type": "stream",
          "name": "stdout",
          "text": [
            "1/1 [==============================] - 0s 29ms/step\n",
            "1/1 [==============================] - 0s 28ms/step\n",
            "1/1 [==============================] - 0s 24ms/step\n",
            "1/1 [==============================] - 0s 20ms/step\n",
            "1/1 [==============================] - 0s 20ms/step\n",
            "1/1 [==============================] - 0s 20ms/step\n",
            "1/1 [==============================] - 0s 24ms/step\n",
            "1/1 [==============================] - 0s 35ms/step\n",
            "1/1 [==============================] - 0s 49ms/step\n",
            "1/1 [==============================] - 0s 27ms/step\n",
            "1/1 [==============================] - 0s 26ms/step\n",
            "utisimarthan\t\n"
          ]
        }
      ]
    },
    {
      "cell_type": "code",
      "source": [
        "generate_names('y')"
      ],
      "metadata": {
        "id": "IIh5gwhCsfUW",
        "outputId": "7b5954ab-5d4b-4115-c89d-f4a7b140e81f",
        "colab": {
          "base_uri": "https://localhost:8080/"
        }
      },
      "execution_count": 28,
      "outputs": [
        {
          "output_type": "stream",
          "name": "stdout",
          "text": [
            "1/1 [==============================] - 0s 30ms/step\n",
            "1/1 [==============================] - 0s 27ms/step\n",
            "1/1 [==============================] - 0s 40ms/step\n",
            "1/1 [==============================] - 0s 34ms/step\n",
            "1/1 [==============================] - 0s 30ms/step\n",
            "1/1 [==============================] - 0s 30ms/step\n",
            "1/1 [==============================] - 0s 21ms/step\n",
            "1/1 [==============================] - 0s 19ms/step\n",
            "1/1 [==============================] - 0s 21ms/step\n",
            "1/1 [==============================] - 0s 18ms/step\n",
            "1/1 [==============================] - 0s 21ms/step\n",
            "yind afelit\t\n"
          ]
        }
      ]
    },
    {
      "cell_type": "code",
      "source": [],
      "metadata": {
        "id": "1pBB67MpsjhX"
      },
      "execution_count": null,
      "outputs": []
    }
  ],
  "metadata": {
    "accelerator": "GPU",
    "colab": {
      "provenance": [],
      "include_colab_link": true
    },
    "kernelspec": {
      "display_name": "Python 3",
      "language": "python",
      "name": "python3"
    },
    "language_info": {
      "codemirror_mode": {
        "name": "ipython",
        "version": 3
      },
      "file_extension": ".py",
      "mimetype": "text/x-python",
      "name": "python",
      "nbconvert_exporter": "python",
      "pygments_lexer": "ipython3",
      "version": "3.8.3"
    }
  },
  "nbformat": 4,
  "nbformat_minor": 0
}